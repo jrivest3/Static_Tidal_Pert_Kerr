{
 "cells": [
  {
   "cell_type": "code",
   "execution_count": 14,
   "id": "6f0831de-7e40-4aef-904c-b448a89960c9",
   "metadata": {},
   "outputs": [],
   "source": [
    "import numpy as np\n",
    "from scipy.spatial.transform import Rotation"
   ]
  },
  {
   "cell_type": "code",
   "execution_count": 15,
   "id": "2ae2b9b2-88e7-4d65-9557-157f5935eb35",
   "metadata": {},
   "outputs": [
    {
     "name": "stdout",
     "output_type": "stream",
     "text": [
      "(10, 4, 3)\n"
     ]
    },
    {
     "data": {
      "text/plain": [
       "array([[[  0.45464871,   0.70807342,   0.54030231],\n",
       "        [  0.03850188,   1.61737085,  -0.30116868],\n",
       "        [ -2.61238665,   2.60367203,  -2.52441295],\n",
       "        [-11.70536092,  -1.55779634,  -7.75033744]],\n",
       "\n",
       "       [[  0.45464871,   0.70807342,   0.54030231],\n",
       "        [  0.03850188,   1.61737085,  -0.30116868],\n",
       "        [ -2.61238665,   2.60367203,  -2.52441295],\n",
       "        [-11.70536092,  -1.55779634,  -7.75033744]],\n",
       "\n",
       "       [[  0.45464871,   0.70807342,   0.54030231],\n",
       "        [  0.03850188,   1.61737085,  -0.30116868],\n",
       "        [ -2.61238665,   2.60367203,  -2.52441295],\n",
       "        [-11.70536092,  -1.55779634,  -7.75033744]],\n",
       "\n",
       "       [[  0.45464871,   0.70807342,   0.54030231],\n",
       "        [  0.03850188,   1.61737085,  -0.30116868],\n",
       "        [ -2.61238665,   2.60367203,  -2.52441295],\n",
       "        [-11.70536092,  -1.55779634,  -7.75033744]],\n",
       "\n",
       "       [[  0.45464871,   0.70807342,   0.54030231],\n",
       "        [  0.03850188,   1.61737085,  -0.30116868],\n",
       "        [ -2.61238665,   2.60367203,  -2.52441295],\n",
       "        [-11.70536092,  -1.55779634,  -7.75033744]],\n",
       "\n",
       "       [[  0.45464871,   0.70807342,   0.54030231],\n",
       "        [  0.03850188,   1.61737085,  -0.30116868],\n",
       "        [ -2.61238665,   2.60367203,  -2.52441295],\n",
       "        [-11.70536092,  -1.55779634,  -7.75033744]],\n",
       "\n",
       "       [[  0.45464871,   0.70807342,   0.54030231],\n",
       "        [  0.03850188,   1.61737085,  -0.30116868],\n",
       "        [ -2.61238665,   2.60367203,  -2.52441295],\n",
       "        [-11.70536092,  -1.55779634,  -7.75033744]],\n",
       "\n",
       "       [[  0.45464871,   0.70807342,   0.54030231],\n",
       "        [  0.03850188,   1.61737085,  -0.30116868],\n",
       "        [ -2.61238665,   2.60367203,  -2.52441295],\n",
       "        [-11.70536092,  -1.55779634,  -7.75033744]],\n",
       "\n",
       "       [[  0.45464871,   0.70807342,   0.54030231],\n",
       "        [  0.03850188,   1.61737085,  -0.30116868],\n",
       "        [ -2.61238665,   2.60367203,  -2.52441295],\n",
       "        [-11.70536092,  -1.55779634,  -7.75033744]],\n",
       "\n",
       "       [[  0.45464871,   0.70807342,   0.54030231],\n",
       "        [  0.03850188,   1.61737085,  -0.30116868],\n",
       "        [ -2.61238665,   2.60367203,  -2.52441295],\n",
       "        [-11.70536092,  -1.55779634,  -7.75033744]]])"
      ]
     },
     "execution_count": 15,
     "metadata": {},
     "output_type": "execute_result"
    }
   ],
   "source": [
    "kinematics=np.ones((10,4,4))\n",
    "t, r, θ, ϕ = kinematics[:,0,0],kinematics[:,0,1],kinematics[:,0,2],kinematics[:,0,3]\n",
    "tdot, rdot, θdot, ϕdot = kinematics[:,1,0],kinematics[:,1,1],kinematics[:,1,2],kinematics[:,1,3]\n",
    "tddot, rddot, θddot, ϕddot = kinematics[:,2,0],kinematics[:,2,1],kinematics[:,2,2],kinematics[:,2,3]\n",
    "tdddot, rdddot, θdddot, ϕdddot = kinematics[:,3,0],kinematics[:,3,1],kinematics[:,3,2],kinematics[:,3,3]\n",
    "\n",
    "x = r * np.sin(θ) * np.cos(ϕ)  # Eq. 6.3\n",
    "y = r * np.sin(θ) * np.sin(ϕ)  # Eq. 6.4\n",
    "z = r * np.cos(θ)  # Eq. 6.5\n",
    "\n",
    "# compute various derivatives of x_{p}^{μ} wrt τ\n",
    "dx = (np.cos(ϕ) * (np.sin(θ) * rdot + np.cos(θ) * r * θdot) - r * np.sin(θ) * np.sin(ϕ) * ϕdot) / tdot  # Eq. D.1\n",
    "d2x = (np.cos(ϕ) * np.sin(θ) * rddot + 2 * rdot * (np.cos(θ) * np.cos(ϕ) * θdot - np.sin(θ) * np.sin(ϕ) * ϕdot) + r * (np.cos(θ) * (-2 * np.sin(ϕ) * θdot * ϕdot + np.cos(ϕ) * θddot) - np.sin(θ) * (np.cos(ϕ) * (θdot**2 + ϕdot**2) + np.sin(ϕ) * ϕddot))) / (tdot**2)  # Eq. D.2\n",
    "d3x = (3 * (θddot * np.cos(θ) - np.sin(θ) * θdot**2) * (rdot * np.cos(ϕ) - r * ϕdot * np.sin(ϕ)) - 3 * θdot * np.cos(θ) * (np.cos(ϕ) * (r * ϕdot**2 - rddot) + np.sin(ϕ) * (2 * rdot * ϕdot + r * ϕddot)) + np.sin(θ) * (np.cos(ϕ) * (rdddot - 3 * ϕdot * (rdot * ϕdot + r * ϕddot)) + np.sin(ϕ) * (r * (ϕdot**3 - ϕdddot) - 3 * (rddot * ϕdot + rdot * ϕddot))) + r * np.cos(ϕ) * ((θdddot - θdot**3) * np.cos(θ) - 3 * θdot * θddot * np.sin(θ))) / (tdot**3)  # Eq. D.3\n",
    "\n",
    "dy = (np.sin(ϕ) * (np.sin(θ) * rdot + np.cos(θ) * r * θdot) + np.cos(ϕ) * r * np.sin(θ) * ϕdot) / tdot  # Eq. D.4\n",
    "d2y = (np.sin(ϕ) * (np.sin(θ) * (rddot - r * (θdot**2 + ϕdot**2)) + np.cos(θ) * r * θddot) + 2 * rdot * (np.cos(θ) * np.sin(ϕ) * θdot + np.cos(ϕ) * np.sin(θ) * ϕdot) + np.cos(ϕ) * r * (2 * np.cos(θ) * θdot * ϕdot + np.sin(θ) * ϕddot)) / (tdot**2)  # Eq. D.5\n",
    "d3y = (3 * (rdot * np.sin(θ) + r * θdot * np.cos(θ)) * (ϕddot * np.cos(ϕ) - np.sin(ϕ) * ϕdot**2) + 3 * ϕdot * np.cos(ϕ) * (rddot * np.sin(θ) + 2 * θdot * rdot * np.cos(θ) + r * (θddot * np.cos(θ) - np.sin(θ) * θdot**2)) + np.sin(ϕ) * (rdddot * np.sin(θ) + 3 * rddot * θdot * np.cos(θ) + 3 * rdot * (θddot * np.cos(θ) - np.sin(θ) * θdot**2) + r * ((θdddot - θdot**3) * np.cos(θ) - 3 * θdot * θddot * np.sin(θ))) + r * np.sin(θ) * ((ϕdddot - ϕdot**3) * np.cos(ϕ) - 3 * ϕdot * ϕddot * np.sin(ϕ))) / (tdot**3)  # Eq. D.6\n",
    "\n",
    "dz = (np.cos(θ) * rdot - r * np.sin(θ) * θdot) / tdot  # Eq. D.7\n",
    "d2z = (np.cos(θ) * (-r * θdot**2 + rddot) - np.sin(θ) * (2 * rdot * θdot + r * θddot)) / (tdot**2)  # Eq. D.8\n",
    "d3z = (rdddot * np.cos(θ) - 3 * rddot * θdot * np.sin(θ) - 3 * rdot * (np.cos(θ) * θdot**2 + θddot * np.sin(θ)) + r * ((θdot**3 - θdddot) * np.sin(θ) - 3 * θdot * θddot * np.cos(θ))) / (tdot**3)  # Eq. D.9\n",
    "\n",
    "# xμ = [x, y, z]\n",
    "# vμ = [dx, dy, dz]\n",
    "# aμ = [d2x, d2y, d2z]\n",
    "# jerkμ = [d3x, d3y, d3z]\n",
    "\n",
    "Cartesian_Kinematics= np.transpose(np.array([[x, y, z],[dx, dy, dz],[d2x, d2y, d2z],[d3x, d3y, d3z]]),axes=[2,0,1]) # np.zeros_like(kinematics)\n",
    "print(Cartesian_Kinematics.shape)\n",
    "Cartesian_Kinematics"
   ]
  },
  {
   "cell_type": "code",
   "execution_count": 17,
   "id": "e9120c2c-ee44-4e29-9e90-574ef8efa9fa",
   "metadata": {},
   "outputs": [
    {
     "name": "stdout",
     "output_type": "stream",
     "text": [
      "[0.07794767629006558, 0.07794767629006558, 0.07794767629006558, 0.07794767629006558, 0.07794767629006558, 0.07794767629006558, 0.07794767629006558, 0.07794767629006558, 0.07794767629006558, 0.07794767629006558] [-0.403259332977856, -0.403259332977856, -0.403259332977856, -0.403259332977856, -0.403259332977856, -0.403259332977856, -0.403259332977856, -0.403259332977856, -0.403259332977856, -0.403259332977856]\n"
     ]
    }
   ],
   "source": [
    "observedLongitude = np.pi / 4\n",
    "observedInclination = np.pi / 6\n",
    "rhat = Rotation.from_euler('xz',[-observedInclination, -np.pi / 2 + observedLongitude])\n",
    "rhat = np.transpose(rhat.as_matrix())\n",
    "ex,ey,ez = rhat[0],rhat[1],rhat[2]\n",
    "\n",
    "z_projector = np.identity(3) - np.outer(ez, ez)\n",
    "\n",
    "#The following is taken from Alejandro's notes (sent via email).\n",
    "#Only the l=2 contribution is constructed\n",
    "mu = 1 #object mass\n",
    "R = 100 #1 #distance between observer and event ?\n",
    "\n",
    "h_plusList = []\n",
    "h_crossList = []\n",
    "\n",
    "for x, v, a, j in Cartesian_Kinematics:\n",
    "    #Construct the l=2 I tensor\n",
    "    I2 = mu * (np.outer(a, x) + 2 * np.outer(v, v) + np.outer(x, a))\n",
    "    I2STF = I2 - np.trace(I2)/3 * np.identity(3)\n",
    "\n",
    "    #construct the l=2 J tensor\n",
    "    #cross product is used instead of levi-civita\n",
    "    va = np.cross(v, a)\n",
    "    xa = np.cross(x, a)\n",
    "    xj = np.cross(x, j)\n",
    "    xv = np.cross(x, v)\n",
    "\n",
    "    J2 = np.outer(x, va) + 2 * np.outer(v, xa)\\\n",
    "        + np.outer(x, xj) + np.outer(a, xv)\n",
    "    J2 *= mu\n",
    "    J2STF = (J2+np.transpose(J2))/2 - np.trace(J2)/3 * np.identity(3)\n",
    "\n",
    "    #J tensor contribution to h_ij, forced symmetric here\n",
    "    #(numpy docs say the cross product is performed on the last axis)\n",
    "    J_contribution = 4/3/R * np.cross(J2STF, ez)\n",
    "    J_contribution += np.transpose(J_contribution)\n",
    "\n",
    "    #h_ij and the traceless transverse form\n",
    "    h_ij = 2/R * I2STF + J_contribution\n",
    "    hTT_ij = z_projector.dot(h_ij.dot(z_projector))\\\n",
    "        - 1/2 * z_projector * np.trace(z_projector.dot(h_ij))\n",
    "\n",
    "    #The final polarizations\n",
    "    h_plus = (hTT_ij.dot(ex).dot(ex) - hTT_ij.dot(ey).dot(ey))/2\n",
    "    h_cross = (hTT_ij.dot(ex).dot(ey) + hTT_ij.dot(ey).dot(ex))/2\n",
    "\n",
    "    h_plusList.append(h_plus)\n",
    "    h_crossList.append(h_cross)\n",
    "\n",
    "print(h_plusList, h_crossList)"
   ]
  },
  {
   "cell_type": "code",
   "execution_count": 24,
   "id": "c87a68b0-a6c4-4f31-a4dd-56d782a04c2d",
   "metadata": {},
   "outputs": [
    {
     "data": {
      "text/plain": [
       "True"
      ]
     },
     "execution_count": 24,
     "metadata": {},
     "output_type": "execute_result"
    }
   ],
   "source": [
    "opts=['-u']\n",
    "Base_Convergence_graphs=True if ('-unpert' in opts) or ('-u' in opts) else False\n",
    "Pert_Stability_graphs=True if ('-stab'  in opts) or ('-s' in opts) else False\n",
    "Pert_Convergence_graphs=True if ('-conv'  in opts) or ('-c' in opts) else False\n",
    "Base_Convergence_graphs"
   ]
  },
  {
   "cell_type": "code",
   "execution_count": 36,
   "id": "3fa82997-dcc3-44b1-9b13-b90d93cde0ff",
   "metadata": {},
   "outputs": [
    {
     "data": {
      "text/plain": [
       "array([[1, 2, 3, 7],\n",
       "       [4, 5, 6, 8]])"
      ]
     },
     "execution_count": 36,
     "metadata": {},
     "output_type": "execute_result"
    }
   ],
   "source": [
    "np.append([[1, 2, 3], [4, 5, 6]], [[7], [8]], axis=1)"
   ]
  },
  {
   "cell_type": "code",
   "execution_count": 40,
   "id": "fa7a0a30-31bb-4423-bbe3-4e97540f1ac9",
   "metadata": {},
   "outputs": [
    {
     "data": {
      "text/plain": [
       "True"
      ]
     },
     "execution_count": 40,
     "metadata": {},
     "output_type": "execute_result"
    }
   ],
   "source": [
    "d={1}\n",
    "test=True if d else False\n",
    "test"
   ]
  },
  {
   "cell_type": "code",
   "execution_count": 44,
   "id": "df211221-97ac-4e32-a6e8-c76562458d05",
   "metadata": {},
   "outputs": [
    {
     "data": {
      "text/plain": [
       "(array([[0., 0., 0.],\n",
       "        [0., 0., 0.],\n",
       "        [0., 0., 0.],\n",
       "        [0., 0., 0.],\n",
       "        [0., 0., 0.],\n",
       "        [0., 0., 0.],\n",
       "        [0., 0., 0.],\n",
       "        [0., 0., 0.],\n",
       "        [0., 0., 0.],\n",
       "        [0., 0., 0.]]),\n",
       " array([[0., 0., 0.],\n",
       "        [0., 0., 0.],\n",
       "        [0., 0., 0.],\n",
       "        [0., 0., 0.],\n",
       "        [0., 0., 0.],\n",
       "        [0., 0., 0.],\n",
       "        [0., 0., 0.],\n",
       "        [0., 0., 0.],\n",
       "        [0., 0., 0.],\n",
       "        [0., 0., 0.]]))"
      ]
     },
     "execution_count": 44,
     "metadata": {},
     "output_type": "execute_result"
    }
   ],
   "source": [
    "ys=np.zeros((10,2,3))\n",
    "xs,vs=ys[:,0],ys[:,1]\n",
    "xs,vs"
   ]
  },
  {
   "cell_type": "code",
   "execution_count": 45,
   "id": "2680047b-62a3-458d-81bf-1dab18e5e824",
   "metadata": {},
   "outputs": [
    {
     "data": {
      "text/plain": [
       "3.9999499992216165"
      ]
     },
     "execution_count": 45,
     "metadata": {},
     "output_type": "execute_result"
    }
   ],
   "source": [
    "a=0.01\n",
    "delt=26*a*a*a*a-8*a**6+3*np.sqrt(3*(27*a**8-16*a**10))\n",
    "1 +\\\n",
    "              np.sqrt(12 - 4* a*a -\\\n",
    "                        (6* np.sqrt(6)* (-2 + a*a))\\\n",
    "                        /np.sqrt(6 - 2* a*a + 4* a*a*a*a/delt**(1/3) + delt**(1/3))\\\n",
    "                        - 4* a*a*a*a/delt**(1/3) - delt**(1/3)\\\n",
    "                       )/np.sqrt(6)\\\n",
    "              + np.sqrt(6 - 2* a*a + 4* a*a*a*a/delt**(1/3) + delt**(1/3))\\\n",
    "              /np.sqrt(6)\n",
    "    "
   ]
  },
  {
   "cell_type": "code",
   "execution_count": 46,
   "id": "137964ca-4397-4273-8b34-91a41a9d727c",
   "metadata": {},
   "outputs": [],
   "source": [
    "class RHS_Cache:\n",
    "            rhs_map = {}\n",
    "\n",
    "            def __call__(self, t, y):\n",
    "                rhs = outer_self.IntRHS()(t,y) # This is the resaon for using a constructor function.\n",
    "                self.rhs_map[t] = rhs # ydot\n",
    "                return rhs\n",
    "            \n",
    "            @classmethod\n",
    "            def clear(cls):\n",
    "                if cls.rhs_map: cls.rhs_map = {}\n",
    "                else: print('Cache is empty')"
   ]
  },
  {
   "cell_type": "code",
   "execution_count": 47,
   "id": "99a135e5-4b8e-43a3-9a81-bb06e84a7cae",
   "metadata": {},
   "outputs": [],
   "source": [
    "from scipy.integrate import solve_ivp as ODE"
   ]
  },
  {
   "cell_type": "code",
   "execution_count": 49,
   "id": "7773c065-8dd8-46ea-8bdf-6b100e7d8827",
   "metadata": {},
   "outputs": [
    {
     "name": "stdout",
     "output_type": "stream",
     "text": [
      "(1, 2, 3)\n"
     ]
    }
   ],
   "source": [
    "print(f'{(1,2,3)}')"
   ]
  },
  {
   "cell_type": "code",
   "execution_count": null,
   "id": "80f10f89-bfa5-4585-a2f6-b6daf6b4414a",
   "metadata": {},
   "outputs": [],
   "source": []
  }
 ],
 "metadata": {
  "kernelspec": {
   "display_name": "Python 3 (ipykernel)",
   "language": "python",
   "name": "python3"
  },
  "language_info": {
   "codemirror_mode": {
    "name": "ipython",
    "version": 3
   },
   "file_extension": ".py",
   "mimetype": "text/x-python",
   "name": "python",
   "nbconvert_exporter": "python",
   "pygments_lexer": "ipython3",
   "version": "3.8.16"
  }
 },
 "nbformat": 4,
 "nbformat_minor": 5
}
